{
 "cells": [
  {
   "cell_type": "code",
   "execution_count": 0,
   "metadata": {
    "colab": {
     "autoexec": {
      "startup": false,
      "wait_interval": 0
     }
    },
    "colab_type": "code",
    "id": "BOGv3Bg_OR8v"
   },
   "outputs": [],
   "source": [
    "import pandas as pd\n",
    "import numpy as np\n",
    "import matplotlib.pyplot as plt"
   ]
  },
  {
   "cell_type": "code",
   "execution_count": 7,
   "metadata": {
    "colab": {
     "autoexec": {
      "startup": false,
      "wait_interval": 0
     },
     "base_uri": "https://localhost:8080/",
     "height": 863
    },
    "colab_type": "code",
    "executionInfo": {
     "elapsed": 1110,
     "status": "error",
     "timestamp": 1527495352808,
     "user": {
      "displayName": "Het Thakkar",
      "photoUrl": "//lh3.googleusercontent.com/-qx5YXjfSdMU/AAAAAAAAAAI/AAAAAAAAM7M/yeyk-HUZ-0c/s50-c-k-no/photo.jpg",
      "userId": "108963261956747311274"
     },
     "user_tz": -330
    },
    "id": "DXcJUiMcOR8z",
    "outputId": "f9980caf-bf22-4762-8b8d-e7b62909bc63"
   },
   "outputs": [
    {
     "ename": "FileNotFoundError",
     "evalue": "ignored",
     "output_type": "error",
     "traceback": [
      "\u001b[0;31m---------------------------------------------------------------------------\u001b[0m",
      "\u001b[0;31mFileNotFoundError\u001b[0m                         Traceback (most recent call last)",
      "\u001b[0;32m<ipython-input-7-c47adfc0d33e>\u001b[0m in \u001b[0;36m<module>\u001b[0;34m()\u001b[0m\n\u001b[0;32m----> 1\u001b[0;31m \u001b[0mdata_df\u001b[0m \u001b[0;34m=\u001b[0m \u001b[0mpd\u001b[0m\u001b[0;34m.\u001b[0m\u001b[0mread_table\u001b[0m\u001b[0;34m(\u001b[0m\u001b[0;34m'14141Kdata-Copy.csv'\u001b[0m\u001b[0;34m,\u001b[0m \u001b[0mheader\u001b[0m\u001b[0;34m=\u001b[0m\u001b[0;32mNone\u001b[0m\u001b[0;34m,\u001b[0m\u001b[0musecols\u001b[0m\u001b[0;34m=\u001b[0m\u001b[0;34m[\u001b[0m\u001b[0;36m0\u001b[0m\u001b[0;34m,\u001b[0m\u001b[0;36m1\u001b[0m\u001b[0;34m]\u001b[0m\u001b[0;34m)\u001b[0m\u001b[0;34m\u001b[0m\u001b[0m\n\u001b[0m",
      "\u001b[0;32m/usr/local/lib/python3.6/dist-packages/pandas/io/parsers.py\u001b[0m in \u001b[0;36mparser_f\u001b[0;34m(filepath_or_buffer, sep, delimiter, header, names, index_col, usecols, squeeze, prefix, mangle_dupe_cols, dtype, engine, converters, true_values, false_values, skipinitialspace, skiprows, nrows, na_values, keep_default_na, na_filter, verbose, skip_blank_lines, parse_dates, infer_datetime_format, keep_date_col, date_parser, dayfirst, iterator, chunksize, compression, thousands, decimal, lineterminator, quotechar, quoting, escapechar, comment, encoding, dialect, tupleize_cols, error_bad_lines, warn_bad_lines, skipfooter, skip_footer, doublequote, delim_whitespace, as_recarray, compact_ints, use_unsigned, low_memory, buffer_lines, memory_map, float_precision)\u001b[0m\n\u001b[1;32m    707\u001b[0m                     skip_blank_lines=skip_blank_lines)\n\u001b[1;32m    708\u001b[0m \u001b[0;34m\u001b[0m\u001b[0m\n\u001b[0;32m--> 709\u001b[0;31m         \u001b[0;32mreturn\u001b[0m \u001b[0m_read\u001b[0m\u001b[0;34m(\u001b[0m\u001b[0mfilepath_or_buffer\u001b[0m\u001b[0;34m,\u001b[0m \u001b[0mkwds\u001b[0m\u001b[0;34m)\u001b[0m\u001b[0;34m\u001b[0m\u001b[0m\n\u001b[0m\u001b[1;32m    710\u001b[0m \u001b[0;34m\u001b[0m\u001b[0m\n\u001b[1;32m    711\u001b[0m     \u001b[0mparser_f\u001b[0m\u001b[0;34m.\u001b[0m\u001b[0m__name__\u001b[0m \u001b[0;34m=\u001b[0m \u001b[0mname\u001b[0m\u001b[0;34m\u001b[0m\u001b[0m\n",
      "\u001b[0;32m/usr/local/lib/python3.6/dist-packages/pandas/io/parsers.py\u001b[0m in \u001b[0;36m_read\u001b[0;34m(filepath_or_buffer, kwds)\u001b[0m\n\u001b[1;32m    447\u001b[0m \u001b[0;34m\u001b[0m\u001b[0m\n\u001b[1;32m    448\u001b[0m     \u001b[0;31m# Create the parser.\u001b[0m\u001b[0;34m\u001b[0m\u001b[0;34m\u001b[0m\u001b[0m\n\u001b[0;32m--> 449\u001b[0;31m     \u001b[0mparser\u001b[0m \u001b[0;34m=\u001b[0m \u001b[0mTextFileReader\u001b[0m\u001b[0;34m(\u001b[0m\u001b[0mfilepath_or_buffer\u001b[0m\u001b[0;34m,\u001b[0m \u001b[0;34m**\u001b[0m\u001b[0mkwds\u001b[0m\u001b[0;34m)\u001b[0m\u001b[0;34m\u001b[0m\u001b[0m\n\u001b[0m\u001b[1;32m    450\u001b[0m \u001b[0;34m\u001b[0m\u001b[0m\n\u001b[1;32m    451\u001b[0m     \u001b[0;32mif\u001b[0m \u001b[0mchunksize\u001b[0m \u001b[0;32mor\u001b[0m \u001b[0miterator\u001b[0m\u001b[0;34m:\u001b[0m\u001b[0;34m\u001b[0m\u001b[0m\n",
      "\u001b[0;32m/usr/local/lib/python3.6/dist-packages/pandas/io/parsers.py\u001b[0m in \u001b[0;36m__init__\u001b[0;34m(self, f, engine, **kwds)\u001b[0m\n\u001b[1;32m    816\u001b[0m             \u001b[0mself\u001b[0m\u001b[0;34m.\u001b[0m\u001b[0moptions\u001b[0m\u001b[0;34m[\u001b[0m\u001b[0;34m'has_index_names'\u001b[0m\u001b[0;34m]\u001b[0m \u001b[0;34m=\u001b[0m \u001b[0mkwds\u001b[0m\u001b[0;34m[\u001b[0m\u001b[0;34m'has_index_names'\u001b[0m\u001b[0;34m]\u001b[0m\u001b[0;34m\u001b[0m\u001b[0m\n\u001b[1;32m    817\u001b[0m \u001b[0;34m\u001b[0m\u001b[0m\n\u001b[0;32m--> 818\u001b[0;31m         \u001b[0mself\u001b[0m\u001b[0;34m.\u001b[0m\u001b[0m_make_engine\u001b[0m\u001b[0;34m(\u001b[0m\u001b[0mself\u001b[0m\u001b[0;34m.\u001b[0m\u001b[0mengine\u001b[0m\u001b[0;34m)\u001b[0m\u001b[0;34m\u001b[0m\u001b[0m\n\u001b[0m\u001b[1;32m    819\u001b[0m \u001b[0;34m\u001b[0m\u001b[0m\n\u001b[1;32m    820\u001b[0m     \u001b[0;32mdef\u001b[0m \u001b[0mclose\u001b[0m\u001b[0;34m(\u001b[0m\u001b[0mself\u001b[0m\u001b[0;34m)\u001b[0m\u001b[0;34m:\u001b[0m\u001b[0;34m\u001b[0m\u001b[0m\n",
      "\u001b[0;32m/usr/local/lib/python3.6/dist-packages/pandas/io/parsers.py\u001b[0m in \u001b[0;36m_make_engine\u001b[0;34m(self, engine)\u001b[0m\n\u001b[1;32m   1047\u001b[0m     \u001b[0;32mdef\u001b[0m \u001b[0m_make_engine\u001b[0m\u001b[0;34m(\u001b[0m\u001b[0mself\u001b[0m\u001b[0;34m,\u001b[0m \u001b[0mengine\u001b[0m\u001b[0;34m=\u001b[0m\u001b[0;34m'c'\u001b[0m\u001b[0;34m)\u001b[0m\u001b[0;34m:\u001b[0m\u001b[0;34m\u001b[0m\u001b[0m\n\u001b[1;32m   1048\u001b[0m         \u001b[0;32mif\u001b[0m \u001b[0mengine\u001b[0m \u001b[0;34m==\u001b[0m \u001b[0;34m'c'\u001b[0m\u001b[0;34m:\u001b[0m\u001b[0;34m\u001b[0m\u001b[0m\n\u001b[0;32m-> 1049\u001b[0;31m             \u001b[0mself\u001b[0m\u001b[0;34m.\u001b[0m\u001b[0m_engine\u001b[0m \u001b[0;34m=\u001b[0m \u001b[0mCParserWrapper\u001b[0m\u001b[0;34m(\u001b[0m\u001b[0mself\u001b[0m\u001b[0;34m.\u001b[0m\u001b[0mf\u001b[0m\u001b[0;34m,\u001b[0m \u001b[0;34m**\u001b[0m\u001b[0mself\u001b[0m\u001b[0;34m.\u001b[0m\u001b[0moptions\u001b[0m\u001b[0;34m)\u001b[0m\u001b[0;34m\u001b[0m\u001b[0m\n\u001b[0m\u001b[1;32m   1050\u001b[0m         \u001b[0;32melse\u001b[0m\u001b[0;34m:\u001b[0m\u001b[0;34m\u001b[0m\u001b[0m\n\u001b[1;32m   1051\u001b[0m             \u001b[0;32mif\u001b[0m \u001b[0mengine\u001b[0m \u001b[0;34m==\u001b[0m \u001b[0;34m'python'\u001b[0m\u001b[0;34m:\u001b[0m\u001b[0;34m\u001b[0m\u001b[0m\n",
      "\u001b[0;32m/usr/local/lib/python3.6/dist-packages/pandas/io/parsers.py\u001b[0m in \u001b[0;36m__init__\u001b[0;34m(self, src, **kwds)\u001b[0m\n\u001b[1;32m   1693\u001b[0m         \u001b[0mkwds\u001b[0m\u001b[0;34m[\u001b[0m\u001b[0;34m'allow_leading_cols'\u001b[0m\u001b[0;34m]\u001b[0m \u001b[0;34m=\u001b[0m \u001b[0mself\u001b[0m\u001b[0;34m.\u001b[0m\u001b[0mindex_col\u001b[0m \u001b[0;32mis\u001b[0m \u001b[0;32mnot\u001b[0m \u001b[0;32mFalse\u001b[0m\u001b[0;34m\u001b[0m\u001b[0m\n\u001b[1;32m   1694\u001b[0m \u001b[0;34m\u001b[0m\u001b[0m\n\u001b[0;32m-> 1695\u001b[0;31m         \u001b[0mself\u001b[0m\u001b[0;34m.\u001b[0m\u001b[0m_reader\u001b[0m \u001b[0;34m=\u001b[0m \u001b[0mparsers\u001b[0m\u001b[0;34m.\u001b[0m\u001b[0mTextReader\u001b[0m\u001b[0;34m(\u001b[0m\u001b[0msrc\u001b[0m\u001b[0;34m,\u001b[0m \u001b[0;34m**\u001b[0m\u001b[0mkwds\u001b[0m\u001b[0;34m)\u001b[0m\u001b[0;34m\u001b[0m\u001b[0m\n\u001b[0m\u001b[1;32m   1696\u001b[0m \u001b[0;34m\u001b[0m\u001b[0m\n\u001b[1;32m   1697\u001b[0m         \u001b[0;31m# XXX\u001b[0m\u001b[0;34m\u001b[0m\u001b[0;34m\u001b[0m\u001b[0m\n",
      "\u001b[0;32mpandas/_libs/parsers.pyx\u001b[0m in \u001b[0;36mpandas._libs.parsers.TextReader.__cinit__\u001b[0;34m()\u001b[0m\n",
      "\u001b[0;32mpandas/_libs/parsers.pyx\u001b[0m in \u001b[0;36mpandas._libs.parsers.TextReader._setup_parser_source\u001b[0;34m()\u001b[0m\n",
      "\u001b[0;31mFileNotFoundError\u001b[0m: File b'14141Kdata-Copy.csv' does not exist"
     ]
    }
   ],
   "source": [
    "data_df = pd.read_table('14141Kdata-Copy.csv', header=None,usecols=[0,1])"
   ]
  },
  {
   "cell_type": "code",
   "execution_count": 10,
   "metadata": {
    "colab": {
     "autoexec": {
      "startup": false,
      "wait_interval": 0
     },
     "base_uri": "https://localhost:8080/",
     "height": 1127
    },
    "colab_type": "code",
    "executionInfo": {
     "elapsed": 1046,
     "status": "ok",
     "timestamp": 1527100505198,
     "user": {
      "displayName": "Isro Daiict",
      "photoUrl": "https://lh3.googleusercontent.com/a/default-user=s128",
      "userId": "105366973318079437850"
     },
     "user_tz": -330
    },
    "id": "VjjkwVK-OR87",
    "outputId": "dd20558d-229f-47f1-9035-3aefbbba7867"
   },
   "outputs": [
    {
     "name": "stdout",
     "output_type": "stream",
     "text": [
      "                                                0\n",
      "0    3.00E+02,1.27E-01,9.39E-02,8.24E-02,1.03E-01\n",
      "1    3.05E+02,1.32E-01,9.75E-02,8.29E-02,1.09E-01\n",
      "2    3.10E+02,1.35E-01,1.01E-01,8.53E-02,1.10E-01\n",
      "3    3.15E+02,1.38E-01,1.03E-01,8.82E-02,1.13E-01\n",
      "4    3.20E+02,1.42E-01,1.05E-01,8.92E-02,1.15E-01\n",
      "5    3.25E+02,1.46E-01,1.08E-01,9.08E-02,1.17E-01\n",
      "6    3.30E+02,1.50E-01,1.12E-01,9.25E-02,1.21E-01\n",
      "7    3.35E+02,1.54E-01,1.15E-01,9.47E-02,1.24E-01\n",
      "8    3.40E+02,1.59E-01,1.19E-01,9.69E-02,1.27E-01\n",
      "9    3.45E+02,1.64E-01,1.21E-01,9.97E-02,1.31E-01\n",
      "10   3.50E+02,1.69E-01,1.26E-01,1.02E-01,1.34E-01\n",
      "11   3.55E+02,1.73E-01,1.30E-01,1.05E-01,1.39E-01\n",
      "12   3.60E+02,1.78E-01,1.35E-01,1.08E-01,1.43E-01\n",
      "13   3.65E+02,1.83E-01,1.38E-01,1.12E-01,1.46E-01\n",
      "14   3.70E+02,1.87E-01,1.43E-01,1.14E-01,1.50E-01\n",
      "15   3.75E+02,1.92E-01,1.46E-01,1.17E-01,1.53E-01\n",
      "16   3.80E+02,1.95E-01,1.49E-01,1.20E-01,1.58E-01\n",
      "17   3.85E+02,1.99E-01,1.52E-01,1.22E-01,1.60E-01\n",
      "18   3.90E+02,2.02E-01,1.56E-01,1.24E-01,1.64E-01\n",
      "19   3.95E+02,2.05E-01,1.59E-01,1.27E-01,1.67E-01\n",
      "20   4.00E+02,2.08E-01,1.62E-01,1.30E-01,1.70E-01\n",
      "21   4.05E+02,2.11E-01,1.65E-01,1.33E-01,1.73E-01\n",
      "22   4.10E+02,2.15E-01,1.68E-01,1.35E-01,1.75E-01\n",
      "23   4.15E+02,2.18E-01,1.70E-01,1.37E-01,1.78E-01\n",
      "24   4.20E+02,2.21E-01,1.73E-01,1.39E-01,1.80E-01\n",
      "25   4.25E+02,2.24E-01,1.75E-01,1.41E-01,1.83E-01\n",
      "26   4.30E+02,2.27E-01,1.78E-01,1.42E-01,1.85E-01\n",
      "27   4.35E+02,2.30E-01,1.80E-01,1.43E-01,1.87E-01\n",
      "28   4.40E+02,2.33E-01,1.82E-01,1.46E-01,1.89E-01\n",
      "29   4.45E+02,2.36E-01,1.84E-01,1.47E-01,1.91E-01\n",
      "..                                            ...\n",
      "431  2.46E+03,4.94E-01,4.40E-01,3.45E-01,4.20E-01\n",
      "432  2.46E+03,4.96E-01,4.41E-01,3.46E-01,4.21E-01\n",
      "433  2.47E+03,4.95E-01,4.41E-01,3.47E-01,4.22E-01\n",
      "434  2.47E+03,4.95E-01,4.42E-01,3.47E-01,4.23E-01\n",
      "435  2.48E+03,4.96E-01,4.42E-01,3.48E-01,4.24E-01\n",
      "436  2.48E+03,4.96E-01,4.43E-01,3.48E-01,4.25E-01\n",
      "437  2.49E+03,4.96E-01,4.44E-01,3.49E-01,4.27E-01\n",
      "438  2.49E+03,4.96E-01,4.45E-01,3.49E-01,4.27E-01\n",
      "439  2.50E+03,4.96E-01,4.46E-01,3.49E-01,4.28E-01\n",
      "440  2.50E+03,4.98E-01,4.46E-01,3.52E-01,4.28E-01\n",
      "441  2.51E+03,4.97E-01,4.47E-01,3.51E-01,4.30E-01\n",
      "442  2.51E+03,4.98E-01,4.48E-01,3.52E-01,4.30E-01\n",
      "443  2.52E+03,4.98E-01,4.49E-01,3.52E-01,4.32E-01\n",
      "444  2.52E+03,4.98E-01,4.49E-01,3.53E-01,4.32E-01\n",
      "445  2.53E+03,4.98E-01,4.50E-01,3.53E-01,4.33E-01\n",
      "446  2.53E+03,4.99E-01,4.51E-01,3.55E-01,4.33E-01\n",
      "447  2.54E+03,4.99E-01,4.51E-01,3.55E-01,4.35E-01\n",
      "448  2.54E+03,5.00E-01,4.52E-01,3.56E-01,4.35E-01\n",
      "449  2.55E+03,5.02E-01,4.54E-01,3.58E-01,4.34E-01\n",
      "450  2.55E+03,5.02E-01,4.54E-01,3.58E-01,4.36E-01\n",
      "451  2.56E+03,5.02E-01,4.55E-01,3.59E-01,4.38E-01\n",
      "452  2.56E+03,5.04E-01,4.55E-01,3.60E-01,4.36E-01\n",
      "453  2.57E+03,5.04E-01,4.56E-01,3.61E-01,4.37E-01\n",
      "454  2.57E+03,5.04E-01,4.57E-01,3.61E-01,4.38E-01\n",
      "455  2.58E+03,5.04E-01,4.57E-01,3.61E-01,4.39E-01\n",
      "456  2.58E+03,5.05E-01,4.58E-01,3.63E-01,4.37E-01\n",
      "457  2.59E+03,5.04E-01,4.60E-01,3.62E-01,4.43E-01\n",
      "458  2.59E+03,5.06E-01,4.60E-01,3.66E-01,4.39E-01\n",
      "459  2.60E+03,5.08E-01,4.61E-01,3.69E-01,4.43E-01\n",
      "460  2.60E+03,5.13E-01,4.60E-01,3.69E-01,4.43E-01\n",
      "\n",
      "[461 rows x 1 columns]\n"
     ]
    }
   ],
   "source": [
    "print(data_df)"
   ]
  }
 ],
 "metadata": {
  "colab": {
   "collapsed_sections": [],
   "default_view": {},
   "name": "Model1.ipynb",
   "provenance": [],
   "toc_visible": true,
   "version": "0.3.2",
   "views": {}
  },
  "kernelspec": {
   "display_name": "Python 3",
   "language": "python",
   "name": "python3"
  },
  "language_info": {
   "codemirror_mode": {
    "name": "ipython",
    "version": 3
   },
   "file_extension": ".py",
   "mimetype": "text/x-python",
   "name": "python",
   "nbconvert_exporter": "python",
   "pygments_lexer": "ipython3",
   "version": "3.6.4"
  }
 },
 "nbformat": 4,
 "nbformat_minor": 1
}

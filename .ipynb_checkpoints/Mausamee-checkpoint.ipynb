{
 "cells": [
  {
   "cell_type": "code",
   "execution_count": 2,
   "metadata": {
    "collapsed": true
   },
   "outputs": [],
   "source": [
    "import pandas as pd\n",
    "import numpy as np\n",
    "import matplotlib.pyplot as plt\n",
    "from _future import division"
   ]
  },
  {
   "cell_type": "code",
   "execution_count": 3,
   "metadata": {
    "collapsed": true
   },
   "outputs": [],
   "source": [
    "data_df = pd.read_csv('14141Kdata-Copy.csv', header=None)"
   ]
  },
  {
   "cell_type": "code",
   "execution_count": 4,
   "metadata": {
    "collapsed": true
   },
   "outputs": [],
   "source": [
    "data = data_df.values"
   ]
  },
  {
   "cell_type": "code",
   "execution_count": 7,
   "metadata": {},
   "outputs": [
    {
     "data": {
      "text/plain": [
       "[<matplotlib.lines.Line2D at 0x291be23a7f0>,\n",
       " <matplotlib.lines.Line2D at 0x291be23ac88>,\n",
       " <matplotlib.lines.Line2D at 0x291be1ac978>,\n",
       " <matplotlib.lines.Line2D at 0x291be246240>]"
      ]
     },
     "execution_count": 7,
     "metadata": {},
     "output_type": "execute_result"
    }
   ],
   "source": [
    "plt.plot(data[0:461,0],data[0:461,1],data[0:461,0],data[0:461,2],data[0:461,0],data[0:461,3],data[0:461,0],data[0:461,4])"
   ]
  },
  {
   "cell_type": "code",
   "execution_count": 13,
   "metadata": {},
   "outputs": [],
   "source": [
    "def omega():\n",
    "\n",
    "    \n",
    "    for i in n:\n",
    "\n",
    "        Si(i) = 1 - (4/(n*((n+1)**2)))\n",
    "\n",
    "        Se(i) = ((n-1) **2 + k**2)/((n+1)**2 + k(i)**2) + 0.05\n",
    "\n",
    "        D(i) = (2/3) * (n**2 - (1/n)*np.pow((n**2-1),(3/2)))* D\n",
    "\n",
    "        #for perfectly spherical particle\n",
    "        #D=0.2D\n",
    "\n",
    "        theta(i) = np.exp(-alpha(i)*D(i))\n",
    "\n",
    "        alpha(i) = (4*3.14*n*k(i))/lamda(i)\n",
    "\n",
    "        w(i) = Se(i) + (1-Se(i)) * ((1-Se(i))/(1-(Se(i)*theta(i))))\n",
    "\n",
    "        nume(i) = np.sum(np.dot(M(i)*w(i))/np.dot(raw(i)*d(i)))\n",
    "        deno(i) = np.sum((M(i))/(np.dot(raw(i)*d(i))))\n",
    "\n",
    "        w_ave(i) = nume(i)/deno(i)\n"
   ]
  },
  {
   "cell_type": "code",
   "execution_count": null,
   "metadata": {
    "collapsed": true
   },
   "outputs": [],
   "source": []
  }
 ],
 "metadata": {
  "kernelspec": {
   "display_name": "Python 3",
   "language": "python",
   "name": "python3"
  },
  "language_info": {
   "codemirror_mode": {
    "name": "ipython",
    "version": 3
   },
   "file_extension": ".py",
   "mimetype": "text/x-python",
   "name": "python",
   "nbconvert_exporter": "python",
   "pygments_lexer": "ipython3",
   "version": "3.6.3"
  }
 },
 "nbformat": 4,
 "nbformat_minor": 2
}

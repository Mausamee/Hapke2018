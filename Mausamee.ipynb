{
 "cells": [
  {
   "cell_type": "code",
   "execution_count": 10,
   "metadata": {
    "collapsed": true
   },
   "outputs": [],
   "source": [
    "import pandas as pd\n",
    "import numpy as np\n",
    "import matplotlib.pyplot as plt\n",
    "from __future__ import division\n",
    "import math"
   ]
  },
  {
   "cell_type": "code",
   "execution_count": 3,
   "metadata": {
    "collapsed": true
   },
   "outputs": [],
   "source": [
    "data_df = pd.read_csv('14141Kdata-Copy.csv', header=None)"
   ]
  },
  {
   "cell_type": "code",
   "execution_count": 4,
   "metadata": {
    "collapsed": true
   },
   "outputs": [],
   "source": [
    "data = data_df.values"
   ]
  },
  {
   "cell_type": "code",
   "execution_count": 6,
   "metadata": {},
   "outputs": [
    {
     "data": {
      "text/plain": [
       "[<matplotlib.lines.Line2D at 0x19df61fc710>,\n",
       " <matplotlib.lines.Line2D at 0x19df60a2710>,\n",
       " <matplotlib.lines.Line2D at 0x19df6099160>,\n",
       " <matplotlib.lines.Line2D at 0x19df61fcdd8>]"
      ]
     },
     "execution_count": 6,
     "metadata": {},
     "output_type": "execute_result"
    }
   ],
   "source": [
    "plt.plot(data[0:461,0],data[0:461,1],data[0:461,0],data[0:461,2],data[0:461,0],data[0:461,3],data[0:461,0],data[0:461,4])"
   ]
  },
  {
   "cell_type": "code",
   "execution_count": 9,
   "metadata": {},
   "outputs": [
    {
     "name": "stdout",
     "output_type": "stream",
     "text": [
      "32.5\n"
     ]
    }
   ],
   "source": [
    "# To calculate omega average\n",
    "\n",
    "def w_ave(M,w,raw,dia):\n",
    "    \n",
    "    num = np.sum((M*w) / (raw*dia))\n",
    "    den = np.sum((M) / (raw*dia))\n",
    "    \n",
    "    w_ave = num /den \n",
    "    \n",
    "    return w_ave\n",
    "\n",
    "#print(w_ave(1.9,32.5,4.79,6.4))"
   ]
  },
  {
   "cell_type": "code",
   "execution_count": null,
   "metadata": {
    "collapsed": true
   },
   "outputs": [],
   "source": [
    "# to calculate omega\n",
    "\n",
    "def omega(Se,Si,theta):\n",
    "    \n",
    "    w = Se + (1-Se) * ( ((1-Si) * theta) / (1-Si*theta) )\n",
    "\n",
    "    return w\n"
   ]
  },
  {
   "cell_type": "code",
   "execution_count": 17,
   "metadata": {},
   "outputs": [],
   "source": [
    "# to calculate Se,Si\n",
    "\n",
    "def Se(n,k):\n",
    "    \n",
    "    num = math.pow((n-1),2) + math.pow(k,2)\n",
    "    den = math.pow((n+1),2) + math.pow(k,2)\n",
    "    \n",
    "    Se = (num / den) + 0.05\n",
    "    \n",
    "    return Se\n",
    "\n",
    "#print(Se(5,1))\n",
    "\n",
    "def Si(n):\n",
    "    \n",
    "    temp = 4 / ((n) * (math.pow(n+1,2)))\n",
    "    \n",
    "    Si = 1 - temp\n",
    "    \n",
    "    return Si\n",
    "\n",
    "#print(Si(1.8))"
   ]
  },
  {
   "cell_type": "code",
   "execution_count": 20,
   "metadata": {},
   "outputs": [
    {
     "name": "stdout",
     "output_type": "stream",
     "text": [
      "41.46902302738527\n"
     ]
    }
   ],
   "source": [
    "# to calculate theta,alpha and D(distance)\n",
    "\n",
    "def theta(alpha,Dis):\n",
    "    \n",
    "    theta = np.exp(-alpha * Dis)\n",
    "    \n",
    "    return theta\n",
    "\n",
    "#print(theta(1,2))\n",
    "\n",
    "def alpha(n,k,lamda):\n",
    "    \n",
    "    alpha = (4 * (math.pi) * n * k) / lamda\n",
    "    \n",
    "    return alpha\n",
    "\n",
    "#print(alpha(3.3,1,1))\n",
    "\n",
    "def Dis(n,D):\n",
    "    \n",
    "    temp = math.pow(n,2) - 1\n",
    "    \n",
    "    val = (1/n) * (math.pow(temp,(3/2))) \n",
    "    \n",
    "    Dis = (2/3) * (math.pow(n,2) - val) * D\n",
    "    \n",
    "    return Dis\n",
    "\n",
    "#print(Dis(3.3, .2))\n"
   ]
  },
  {
   "cell_type": "code",
   "execution_count": null,
   "metadata": {
    "collapsed": true
   },
   "outputs": [],
   "source": []
  }
 ],
 "metadata": {
  "kernelspec": {
   "display_name": "Python 3",
   "language": "python",
   "name": "python3"
  },
  "language_info": {
   "codemirror_mode": {
    "name": "ipython",
    "version": 3
   },
   "file_extension": ".py",
   "mimetype": "text/x-python",
   "name": "python",
   "nbconvert_exporter": "python",
   "pygments_lexer": "ipython3",
   "version": "3.6.4"
  }
 },
 "nbformat": 4,
 "nbformat_minor": 2
}

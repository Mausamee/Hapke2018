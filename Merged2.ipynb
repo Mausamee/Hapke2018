{
 "cells": [
  {
   "cell_type": "code",
   "execution_count": 136,
   "metadata": {},
   "outputs": [],
   "source": [
    "import os\n",
    "import pandas as pd\n",
    "import numpy as np\n",
    "import matplotlib.pyplot as plt\n",
    "from math import sin,cos,tan\n",
    "import math\n",
    "from __future__ import division"
   ]
  },
  {
   "cell_type": "code",
   "execution_count": 137,
   "metadata": {},
   "outputs": [],
   "source": [
    "#file names of dataset\n",
    "    \n",
    "#461 reflectance per sample and total 19 samples \n",
    "Data = np.zeros([461,19])    \n",
    "\n",
    "#data files --> 9 mare + 10 highland\n",
    "files = pd.read_csv('Dataset/abundance_data.csv',usecols=[0],header=None)\n",
    "files = files.values\n",
    "\n",
    "\n",
    "'''\n",
    "sample order:\n",
    "\n",
    "10084Kdata.txt\n",
    "12001Kdata.txt\n",
    "12030Kdata.txt\n",
    "15041Kdata.txt\n",
    "15071Kdata.txt\n",
    "70181Kdata.txt\n",
    "71061Kdata.txt\n",
    "71501Kdata.txt\n",
    "79221Kdata.txt\n",
    "14141Kdata.txt\n",
    "14163Kdata.txt\n",
    "14259Kdata.txt\n",
    "14260Kdata.txt\n",
    "61141Kdata.txt\n",
    "61221Kdata.txt\n",
    "62231Kdata.txt\n",
    "64801Kdata.txt\n",
    "67461Kdata.txt\n",
    "67481Kdata.txt\n",
    "\n",
    "\n",
    "'''\n",
    "\n",
    "for i in range(19):\n",
    "    \n",
    "    temp = files[i][0]    \n",
    "    file_name = 'Dataset/combine-data/'+str(temp)+'Kdata.txt'\n",
    "    #print(str(temp)+'Kdata.txt')\n",
    "    \n",
    "    data_df = pd.read_csv(file_name, delimiter = '\\t', header=None,usecols = [0,1,3,5,7])\n",
    "\n",
    "    #convert panda to numpy array\n",
    "    data = data_df.values\n",
    "\n",
    "    #lamda values\n",
    "    lamda_values = data[:,0]\n",
    "\n",
    "    #Reflectance values\n",
    "    Reflectance_values = data[:,2]\n",
    "    \n",
    "    Data[:,i] = Reflectance_values\n",
    "    \n",
    "    #plot reflectance values\n",
    "    #plt.plot(lamda_values,Reflectance_values)\n"
   ]
  },
  {
   "cell_type": "code",
   "execution_count": 138,
   "metadata": {},
   "outputs": [],
   "source": [
    "#order of mineral: [Agglutinate, pyroxene, Plagioclase, Olivine, Ilmenite, Volcanic Glass]\n",
    "\n",
    "#density in g/cc\n",
    "density = np.array([1.8, 3.3, 2.69, 3.3, 4.79, 2.4])\n",
    "\n",
    "#abundance for sample 14141(here, abundance of metallic iron not present, order different and both pyroxenes mixed)\n",
    "abundance = np.zeros([19,6])\n",
    "\n",
    "#read abundance data from file\n",
    "datafile = pd.read_csv('Dataset/abundance_data.csv',usecols=[1,2,3,4,5,6],header=None)\n",
    "abundance = datafile.values\n",
    "\n",
    "'''\n",
    "our abundance data for 6 minerals for 19 samples\n",
    "\n",
    "[1,2,3,4,5,6] --> [Agglutinate, pyroxene, Plagioclase, Olivine, Ilmenite, Volcanic Glass]\n",
    "\n",
    "       1     2     3    4    5     6\n",
    "0   57.0  12.2  17.1  1.1  5.2   2.9\n",
    "1   56.8  17.9  13.9  4.2  1.8   1.3\n",
    "2   49.8  20.0  29.0  3.7  3.2   1.5\n",
    "3   56.7  17.0  16.2  2.4  0.8   2.6\n",
    "4   49.2  16.7  19.4  2.8  1.8   4.1\n",
    "5   51.7   8.5  18.3  3.8  6.7   9.2\n",
    "6   37.9  12.5  15.2  4.5  9.7  18.8\n",
    "7   44.8  13.7  19.8  3.4  9.7   7.5\n",
    "8   54.3   9.7  16.0  3.4  6.0   9.2\n",
    "9   48.6  10.9  28.0  1.6  1.1   7.4\n",
    "10  58.5  13.8  18.3  2.1  0.9   4.1\n",
    "11  68.7   9.1  15.4  1.4  1.2   2.7\n",
    "12  65.2  12.1  16.1  1.5  1.0   2.6\n",
    "13  53.9   3.3  40.3  1.6  0.3   0.4\n",
    "14  32.6   5.3  59.4  2.0  0.3   0.2\n",
    "15  55.0   4.4  37.8  1.7  0.5   0.4\n",
    "16  61.0   2.8  34.5  1.0  0.2   0.3\n",
    "17  32.4   4.1  61.0  1.5  0.3   0.2\n",
    "18  28.6   5.6  62.0  2.9  0.2   0.4\n",
    "\n",
    "'''\n",
    "\n",
    "#diameter has different samples for orthopyroxene. Only one needed\n",
    "meanDiameter = np.array([110, 175, 11, 20, 15, 10])\n",
    "\n",
    "#refractive index for metallic iron taken as avg of 2.25,3.36\n",
    "refractiveIndex = [1.49, 1.75, 1.56, 1.83, 2.13, 1.64]\n",
    "\n",
    "#imaginary refractive index (k)\n",
    "#refractiveIndexI = [.2, .2, .2, .2, .2, .2]*5"
   ]
  },
  {
   "cell_type": "code",
   "execution_count": 139,
   "metadata": {},
   "outputs": [],
   "source": [
    "#incidence angle\n",
    "i = math.pi/6\n",
    "#emergence angle\n",
    "e = 0\n",
    "#phase angle\n",
    "g = math.pi/6\n",
    "\n",
    "mu = cos(e)\n",
    "mu_0 = cos(i)"
   ]
  },
  {
   "cell_type": "code",
   "execution_count": 140,
   "metadata": {},
   "outputs": [],
   "source": [
    "def get_B(h,g):\n",
    "    \n",
    "    B = 1/(1 + (1/h)*tan(g/2))\n",
    "    return B\n",
    "\n",
    "def get_P(g,b,c):\n",
    "    \n",
    "    P = 1 + b*cos(g) + c*(1.5*cos(g)*cos(g) - .5)\n",
    "    return P\n"
   ]
  },
  {
   "cell_type": "code",
   "execution_count": 141,
   "metadata": {},
   "outputs": [],
   "source": [
    "def get_H(x,y):\n",
    "    \n",
    "    g = np.sqrt(1-y)\n",
    "    r = (1-g)/(1+g)\n",
    "    value = 1.0/(1-(1-g)*x*(r + (1-.5*r-r*x)*np.log((1+x)/x)))\n",
    "    return value"
   ]
  },
  {
   "cell_type": "code",
   "execution_count": 142,
   "metadata": {},
   "outputs": [],
   "source": [
    "def W_ave(index,w):\n",
    "    \n",
    "    #index : sample index (0-15)\n",
    "    \n",
    "    nume = np.zeros([6])\n",
    "    deno = np.zeros([6])\n",
    "    for i in range(0,6):\n",
    "        nume[i] = abundance[index,i]*w[i]/(density[i]*meanDiameter[i])\n",
    "        deno[i] = abundance[index,i]/(density[i]*meanDiameter[i])\n",
    "\n",
    "    w_ave = np.sum(nume)/np.sum(deno)\n",
    "    return w_ave"
   ]
  },
  {
   "cell_type": "code",
   "execution_count": 143,
   "metadata": {},
   "outputs": [],
   "source": [
    "def Reflectance(lamda_index,m_index,w,h,b,c):\n",
    "    \n",
    "    #lamda_index : index of wavelength (0-461)\n",
    "    #m_index : sample index (0-15)\n",
    "    \n",
    "    w_ave = W_ave(m_index,w)\n",
    "    t1 = 1 + get_B(h,g)\n",
    "    t2 = get_P(g,b,c)\n",
    "    t3 = get_H(mu_0,w_ave)*get_H(mu,w_ave)\n",
    "    t5 = w_ave/(4*math.pi)\n",
    "    t6 = mu_0/(mu_0 + mu)\n",
    "    \n",
    "    #print(t1)\n",
    "    ref = t5*t6*(t1*t2+t3-1)\n",
    "    return ref"
   ]
  },
  {
   "cell_type": "code",
   "execution_count": 144,
   "metadata": {},
   "outputs": [],
   "source": [
    "def Error(r1,r2):\n",
    "    \n",
    "    #r1 : relfectance measured \n",
    "    #r2 : reflectance ground truth\n",
    "    \n",
    "    # return mean square error  \n",
    "    \n",
    "    err = np.sum(np.dot(r1-r2,r1-r2))/(2*len(r1))\n",
    "    \n",
    "    return err"
   ]
  },
  {
   "cell_type": "code",
   "execution_count": 145,
   "metadata": {},
   "outputs": [],
   "source": [
    "#yet to implement\n",
    "def calc_dHdwa(mu,w_ave):\n",
    "    \n",
    "    h = .01\n",
    "    w_ave1 = w_ave+h\n",
    "    w_ave2 = w_ave-h\n",
    "    \n",
    "    f1 = (get_H(mu,w_ave1) - get_H(mu,w_ave))/h\n",
    "    f2 = (get_H(mu,w_ave1) - get_H(mu,w_ave2))/2*h\n",
    "    \n",
    "    return f1"
   ]
  },
  {
   "cell_type": "code",
   "execution_count": 146,
   "metadata": {},
   "outputs": [],
   "source": [
    "def calc_dRdwa(lamda_index,m_index,w,h,b,c):\n",
    "    \n",
    "    #lamda_index : index of wavelength (0-461)\n",
    "    #m_index : sample index (0-15)\n",
    "        \n",
    "    w_ave = W_ave(m_index,w)\n",
    "    t1 = (mu_0/(4*math.pi*(mu_0 + mu))*(1+get_B(h,g))*get_P(g,b,c))\n",
    "    t = calc_dHdwa(mu_0,w_ave)*get_H(mu,w_ave) + calc_dHdwa(mu,w_ave)*get_H(mu_0,w_ave)\n",
    "    t2 = w_ave*t\n",
    "            \n",
    "    return t1 + t2 - 1"
   ]
  },
  {
   "cell_type": "code",
   "execution_count": 147,
   "metadata": {},
   "outputs": [],
   "source": [
    "def calc_dwadw(lamda_index,m_index,w_index,w,h,b,c):\n",
    "    \n",
    "    # lamda_index : index of wavelength (0-461)\n",
    "    # m_index : sample index (0-15)\n",
    "    # w_index : mineral index (0-6)\n",
    "    \n",
    "    nume = abundance[m_index,w_index]/(density[w_index]*meanDiameter[w_index])\n",
    "    deno = np.sum(abundance[m_index,:]/(density[:]*meanDiameter[:]))\n",
    "    \n",
    "    return nume/deno"
   ]
  },
  {
   "cell_type": "code",
   "execution_count": 148,
   "metadata": {},
   "outputs": [],
   "source": [
    "def calc_dRdw(lamda_index,m_index,w_index,w,h,b,c):\n",
    "    \n",
    "    #lamda_index : index of wavelength (0-461)\n",
    "    #m_index : sample index (0-15)\n",
    "    \n",
    "    \n",
    "    dRdwa = calc_dRdwa(lamda_index,m_index,w,h,b,c)   # dR/dwave\n",
    "    dwadw = calc_dwadw(lamda_index,m_index,w_index,w,h,b,c)   # dwave/dw\n",
    "\n",
    "    dRdw = dRdwa * dwadw\n",
    "    \n",
    "    \n",
    "    return 1"
   ]
  },
  {
   "cell_type": "code",
   "execution_count": 149,
   "metadata": {},
   "outputs": [],
   "source": [
    "def calc_dRdB(lamda_index,m_index,w,h,b,c):\n",
    "    \n",
    "    ##lamda_index : index of wavelength (0-461)\n",
    "    #m_index : sample index (0-15)\n",
    "    \n",
    "    w_ave = W_ave(m_index,w)\n",
    "    P = get_P(g,b,c)\n",
    "    \n",
    "    dRdB = w_ave*mu_0*P/(4*math.pi*(mu_0+mu))\n",
    "    \n",
    "    return dRdB"
   ]
  },
  {
   "cell_type": "code",
   "execution_count": 150,
   "metadata": {},
   "outputs": [],
   "source": [
    "def calc_dBdh(lamda_index,m_index,w,h,b,c):\n",
    "    \n",
    "    ##lamda_index : index of wavelength (0-461)\n",
    "    #m_index : sample index (0-15)\n",
    "    \n",
    "    dBdh = -tan(g/2)/((h+tan(g/2)**2))\n",
    "    return dBdh"
   ]
  },
  {
   "cell_type": "code",
   "execution_count": 151,
   "metadata": {},
   "outputs": [],
   "source": [
    "#yet to implement \n",
    "def calc_dRdh(lamda_index,m_index,w,h,b,c):\n",
    "    \n",
    "    ##lamda_index : index of wavelength (0-461)\n",
    "    #m_index : sample index (0-15)\n",
    "    \n",
    "    dRdB = calc_dRdB(lamda_index,m_index,w,h,b,c)\n",
    "    dBdh = calc_dBdh(lamda_index,m_index,w,h,b,c)\n",
    "    \n",
    "    dRdh = dRdB*dBdh\n",
    "    \n",
    "    return dRdh"
   ]
  },
  {
   "cell_type": "code",
   "execution_count": 152,
   "metadata": {},
   "outputs": [],
   "source": [
    "def calc_dRdb(lamda_index,m_index,w,h,b,c):\n",
    "    \n",
    "    ##lamda_index : index of wavelength (0-461)\n",
    "    #m_index : sample index (0-15)\n",
    "    \n",
    "    wavg = W_ave(m_index,w)\n",
    "    B = get_B(g,h)\n",
    "    \n",
    "    k1 = (wavg/4*math.pi)*(mu_0/(mu_0+mu))\n",
    "    k4 = 1 + B\n",
    "    \n",
    "    grad = k1*k4*cos(g)\n",
    "    \n",
    "    return grad"
   ]
  },
  {
   "cell_type": "code",
   "execution_count": 153,
   "metadata": {},
   "outputs": [],
   "source": [
    "def calc_dRdc(lamda_index,m_index,w,h,b,c):\n",
    "    \n",
    "    ##lamda_index : index of wavelength (0-461)\n",
    "    #m_index : sample index (0-15)\n",
    "    \n",
    "    wavg = W_ave(m_index,w)\n",
    "    B = get_B(g,h)\n",
    "    \n",
    "    k1 = (wavg/4*math.pi)*(mu_0/(mu_0+mu))\n",
    "    k4 = 1 + B\n",
    "    \n",
    "    grad = k1*k4*(1.5*(cos(g)**2) - 0.5)\n",
    "    \n",
    "    return grad"
   ]
  },
  {
   "cell_type": "code",
   "execution_count": 154,
   "metadata": {},
   "outputs": [],
   "source": [
    "def Gradient(lamda_index,reflectance,reflectance_true,w,h,b,c):\n",
    "    dw = np.zeros([6])\n",
    "    dh = 0\n",
    "    db = 0\n",
    "    dc = 0\n",
    "    \n",
    "    erL1 = reflectance - reflectance_true\n",
    "    \n",
    "    # calculate dw\n",
    "    for j in range(6):\n",
    "        dRdw = np.zeros([15])\n",
    "        temp = np.zeros([15])\n",
    "        for i in range(15):\n",
    "            dRdw[i] = calc_dRdw(lamda_index,i,j,w,h,b,c)\n",
    "            temp = erL1[i]*dRdw[i]\n",
    "        dw[j] = np.sum(temp)/15\n",
    "    \n",
    "    # calculate dh\n",
    "    dRdh = np.zeros([15])\n",
    "    temp = np.zeros([15])\n",
    "    for i in range(15):\n",
    "        dRdh[i] = calc_dRdh(lamda_index,i,w,h,b,c)\n",
    "        temp[i] = erL1[i]*dRdh[i]\n",
    "    dh = np.sum(temp)/15\n",
    "    \n",
    "    # calculate db\n",
    "    dRdb = np.zeros([15])\n",
    "    temp = np.zeros([15])\n",
    "    for i in range(15):\n",
    "        dRdb[i] = calc_dRdb(lamda_index,i,w,h,b,c)\n",
    "        temp[i] = erL1[i]*dRdb[i]\n",
    "    db = np.sum(temp)/15\n",
    "    \n",
    "    # calculate dc\n",
    "    dRdc = np.zeros([15])\n",
    "    temp = np.zeros([15])\n",
    "    for i in range(15):\n",
    "        dRdc[i] = calc_dRdc(lamda_index,i,w,h,b,c)\n",
    "        temp[i] = erL1[i]*dRdc[i]\n",
    "    dc = np.sum(temp)/15\n",
    "     \n",
    "    return dw,dh,db,dc "
   ]
  },
  {
   "cell_type": "code",
   "execution_count": 155,
   "metadata": {},
   "outputs": [],
   "source": [
    "def update(w,h,b,c,lr,dw,dh,db,dc):\n",
    "    \n",
    "    for i in range(6):\n",
    "            w[i] = w[i] - lr*dw[i]\n",
    "    \n",
    "    h = h - lr*dh\n",
    "    b = b - lr*db\n",
    "    c = c - lr*dc\n",
    "    \n",
    "    return w,h,b,c"
   ]
  },
  {
   "cell_type": "code",
   "execution_count": 189,
   "metadata": {},
   "outputs": [],
   "source": [
    "def optimize(lamda_index):\n",
    "    \n",
    "    # random initial values for all parameters\n",
    "    \n",
    "    w = np.random.random(6)\n",
    "    h = np.random.random()\n",
    "    b = np.random.random()\n",
    "    c = np.random.random()\n",
    "    \n",
    "    #learning rate\n",
    "    lr = .005\n",
    "    \n",
    "    #number of epochs\n",
    "    epochs = 3000\n",
    "    \n",
    "    reflectance = np.zeros(15)\n",
    "    \n",
    "    for i in range(15):\n",
    "            reflectance[i] = Reflectance(lamda_index,i,w,h,b,c)\n",
    "\n",
    "    reflectance_true = Data[lamda_index,0:15]\n",
    "\n",
    "    error = Error(reflectance,reflectance_true)\n",
    "    \n",
    "    print('error: %f'%error)\n",
    "    \n",
    "    \n",
    "    for itr in range(epochs):\n",
    "        for i in range(15):\n",
    "            reflectance[i] = Reflectance(lamda_index,i,w,h,b,c)\n",
    "\n",
    "        reflectance_true = Data[lamda_index,0:15]\n",
    "\n",
    "        error = Error(reflectance,reflectance_true)\n",
    "\n",
    "        dw,dh,db,dc = Gradient(lamda_index,reflectance,reflectance_true,w,h,b,c)\n",
    "\n",
    "        w,h,b,c = update(w,h,b,c,lr,dw,dh,db,dc)\n",
    "        \n",
    "        if itr%100 == 0:\n",
    "            print('epoch: %d, error = %f'%(itr,error))\n",
    "\n",
    "    return w,h,b,c"
   ]
  },
  {
   "cell_type": "code",
   "execution_count": 197,
   "metadata": {
    "scrolled": false
   },
   "outputs": [
    {
     "name": "stdout",
     "output_type": "stream",
     "text": [
      "error: 0.001541\n",
      "epoch: 0, error = 0.001541\n",
      "epoch: 100, error = 0.001544\n",
      "epoch: 200, error = 0.001548\n",
      "epoch: 300, error = 0.001552\n",
      "epoch: 400, error = 0.001558\n",
      "epoch: 500, error = 0.001565\n",
      "epoch: 600, error = 0.001572\n",
      "epoch: 700, error = 0.001581\n",
      "epoch: 800, error = 0.001590\n",
      "epoch: 900, error = 0.001601\n",
      "epoch: 1000, error = 0.001612\n",
      "epoch: 1100, error = 0.001624\n",
      "epoch: 1200, error = 0.001637\n",
      "epoch: 1300, error = 0.001651\n",
      "epoch: 1400, error = 0.001666\n",
      "epoch: 1500, error = 0.001682\n",
      "epoch: 1600, error = 0.001698\n",
      "epoch: 1700, error = 0.001716\n",
      "epoch: 1800, error = 0.001734\n",
      "epoch: 1900, error = 0.001753\n",
      "epoch: 2000, error = 0.001773\n",
      "epoch: 2100, error = 0.001794\n",
      "epoch: 2200, error = 0.001816\n",
      "epoch: 2300, error = 0.001838\n",
      "epoch: 2400, error = 0.001862\n",
      "epoch: 2500, error = 0.001886\n",
      "epoch: 2600, error = 0.001911\n",
      "epoch: 2700, error = 0.001937\n",
      "epoch: 2800, error = 0.001963\n",
      "epoch: 2900, error = 0.001991\n",
      "0\n",
      "[0.77613234 1.11568039 0.25489168 1.16665712 1.13033224 1.08756645]\n"
     ]
    }
   ],
   "source": [
    "# w for 6 minerals for 461 wavelengths(lambdas)\n",
    "w = np.zeros([461,6])\n",
    "\n",
    "# h,b and c values for 461 wavelengths\n",
    "h = np.zeros(461)\n",
    "b = np.zeros(461)\n",
    "c = np.zeros(461)\n",
    "\n",
    "\n",
    "for lamda_index in range(1):\n",
    "    \n",
    "    # lambda value\n",
    "    lamda = lamda_values[lamda_index]\n",
    "    \n",
    "    # optimize w,h,b and c for particular lamda\n",
    "    temp_w,temp_h,temp_b,temp_c = optimize(lamda_index)\n",
    "    \n",
    "    print(lamda_index)\n",
    "    \n",
    "    w[lamda_index,:] = temp_w\n",
    "    h[lamda_index] = temp_h\n",
    "    b[lamda_index] = temp_b\n",
    "    c[lamda_index] = temp_c\n",
    "    \n",
    "    print(w[0,:])\n",
    "    \n",
    "    \n",
    "        "
   ]
  },
  {
   "cell_type": "code",
   "execution_count": 195,
   "metadata": {},
   "outputs": [
    {
     "name": "stdout",
     "output_type": "stream",
     "text": [
      "[0. 0. 0. 0. 0. 0.]\n",
      "0.0\n",
      "[0.99303671 0.31873082 0.28977843 0.44285784 0.2513613  0.54633204]\n",
      "0.5841820113714633\n",
      "0.4711392384571923\n",
      "0.3040837696440172\n",
      "0.001189175798364416\n"
     ]
    },
    {
     "data": {
      "text/plain": [
       "[<matplotlib.lines.Line2D at 0x7fee9f3fc610>]"
      ]
     },
     "execution_count": 195,
     "metadata": {},
     "output_type": "execute_result"
    },
    {
     "data": {
      "image/png": "[encoded data removed]",
      "text/plain": [
       "<Figure size 432x288 with 1 Axes>"
      ]
     },
     "metadata": {},
     "output_type": "display_data"
    }
   ],
   "source": [
    "print(w[0,:])\n",
    "print(h[0])\n",
    "print(temp_w)\n",
    "print(temp_h)\n",
    "print(temp_c)\n",
    "print(temp_b)\n",
    "lamda_index = 0\n",
    "reflectance = np.zeros(15)\n",
    "for i in range(15):\n",
    "            reflectance[i] = Reflectance(lamda_index,i,temp_w,temp_h,temp_b,temp_c)\n",
    "\n",
    "reflectance_true = Data[lamda_index,0:15]\n",
    "\n",
    "error = Error(reflectance,reflectance_true)\n",
    "print(error)\n",
    "\n",
    "plt.plot((reflectance-reflectance_true)**2)"
   ]
  },
  {
   "cell_type": "code",
   "execution_count": null,
   "metadata": {},
   "outputs": [],
   "source": [
    "for i in range(10):\n",
    "    print(i)"
   ]
  },
  {
   "cell_type": "code",
   "execution_count": null,
   "metadata": {},
   "outputs": [],
   "source": []
  },
  {
   "cell_type": "code",
   "execution_count": null,
   "metadata": {},
   "outputs": [],
   "source": [
    "a"
   ]
  },
  {
   "cell_type": "code",
   "execution_count": null,
   "metadata": {},
   "outputs": [],
   "source": [
    "math.pi"
   ]
  },
  {
   "cell_type": "code",
   "execution_count": null,
   "metadata": {},
   "outputs": [],
   "source": [
    "w_ave,step = np.linspace(0.0,1.0,num=100,retstep=True)\n",
    "H = np.zeros(len(w_ave))\n",
    "slop_H = np.zeros(len(w_ave)-1)\n",
    "for i in range(len(w_ave)):\n",
    "    H[i] = get_H(mu,w_ave[i])\n",
    "    if i>0:\n",
    "        slop_H[i-1] = (H[i] - H[i-1])/step\n",
    "plt.plot(w_ave,H)\n",
    "plt.figure()\n",
    "plt.plot(slop_H)"
   ]
  },
  {
   "cell_type": "code",
   "execution_count": null,
   "metadata": {},
   "outputs": [],
   "source": [
    "get_B(.5,.5)*get_P(.5,.5,.5)"
   ]
  },
  {
   "cell_type": "code",
   "execution_count": null,
   "metadata": {},
   "outputs": [],
   "source": [
    "abundance[0,:]/(density[:]*meanDiameter[:])"
   ]
  },
  {
   "cell_type": "code",
   "execution_count": null,
   "metadata": {},
   "outputs": [],
   "source": []
  }
 ],
 "metadata": {
  "kernelspec": {
   "display_name": "Python 2",
   "language": "python",
   "name": "python2"
  }
 },
 "nbformat": 4,
 "nbformat_minor": 2
}

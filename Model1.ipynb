{
 "cells": [
  {
   "cell_type": "code",
   "execution_count": null,
   "metadata": {
    "colab": {
     "autoexec": {
      "startup": false,
      "wait_interval": 0
     }
    },
    "colab_type": "code",
    "collapsed": true,
    "id": "BOGv3Bg_OR8v"
   },
   "outputs": [],
   "source": [
    "import pandas as pd\n",
    "import numpy as np\n",
    "import matplotlib.pyplot as plt"
   ]
  },
  {
   "cell_type": "code",
   "execution_count": 10,
   "metadata": {
    "colab": {
     "autoexec": {
      "startup": false,
      "wait_interval": 0
     },
     "base_uri": "https://localhost:8080/",
     "height": 863
    },
    "colab_type": "code",
    "collapsed": true,
    "executionInfo": {
     "elapsed": 1110,
     "status": "error",
     "timestamp": 1527495352808,
     "user": {
      "displayName": "Het Thakkar",
      "photoUrl": "//lh3.googleusercontent.com/-qx5YXjfSdMU/AAAAAAAAAAI/AAAAAAAAM7M/yeyk-HUZ-0c/s50-c-k-no/photo.jpg",
      "userId": "108963261956747311274"
     },
     "user_tz": -330
    },
    "id": "DXcJUiMcOR8z",
    "outputId": "f9980caf-bf22-4762-8b8d-e7b62909bc63"
   },
   "outputs": [],
   "source": [
    "data_df = pd.read_csv('14141Kdata-Copy.csv', header=None)"
   ]
  },
  {
   "cell_type": "code",
   "execution_count": 14,
   "metadata": {
    "colab": {
     "autoexec": {
      "startup": false,
      "wait_interval": 0
     },
     "base_uri": "https://localhost:8080/",
     "height": 1127
    },
    "colab_type": "code",
    "collapsed": true,
    "executionInfo": {
     "elapsed": 1046,
     "status": "ok",
     "timestamp": 1527100505198,
     "user": {
      "displayName": "Isro Daiict",
      "photoUrl": "https://lh3.googleusercontent.com/a/default-user=s128",
      "userId": "105366973318079437850"
     },
     "user_tz": -330
    },
    "id": "VjjkwVK-OR87",
    "outputId": "dd20558d-229f-47f1-9035-3aefbbba7867",
    "scrolled": true
   },
   "outputs": [],
   "source": [
    "data = data_df.values"
   ]
  },
  {
   "cell_type": "code",
   "execution_count": 15,
   "metadata": {},
   "outputs": [
    {
     "data": {
      "text/plain": [
       "array([[3.00e+02, 1.27e-01, 9.39e-02, 8.24e-02, 1.03e-01],\n",
       "       [3.05e+02, 1.32e-01, 9.75e-02, 8.29e-02, 1.09e-01],\n",
       "       [3.10e+02, 1.35e-01, 1.01e-01, 8.53e-02, 1.10e-01],\n",
       "       ...,\n",
       "       [2.59e+03, 5.06e-01, 4.60e-01, 3.66e-01, 4.39e-01],\n",
       "       [2.60e+03, 5.08e-01, 4.61e-01, 3.69e-01, 4.43e-01],\n",
       "       [2.60e+03, 5.13e-01, 4.60e-01, 3.69e-01, 4.43e-01]])"
      ]
     },
     "execution_count": 15,
     "metadata": {},
     "output_type": "execute_result"
    }
   ],
   "source": [
    "data"
   ]
  },
  {
   "cell_type": "code",
   "execution_count": 26,
   "metadata": {},
   "outputs": [
    {
     "name": "stdout",
     "output_type": "stream",
     "text": [
      "0.127\n"
     ]
    }
   ],
   "source": [
    "x =data[0:2][0]\n",
    "print(x)"
   ]
  },
  {
   "cell_type": "code",
   "execution_count": 21,
   "metadata": {},
   "outputs": [
    {
     "data": {
      "text/plain": [
       "[<matplotlib.lines.Line2D at 0x22534924b00>,\n",
       " <matplotlib.lines.Line2D at 0x22534924cc0>,\n",
       " <matplotlib.lines.Line2D at 0x22534924e10>,\n",
       " <matplotlib.lines.Line2D at 0x22534924f60>,\n",
       " <matplotlib.lines.Line2D at 0x2253492f0f0>]"
      ]
     },
     "execution_count": 21,
     "metadata": {},
     "output_type": "execute_result"
    },
    {
     "data": {
      "image/png": "[encoded data removed]",
      "text/plain": [
       "<matplotlib.figure.Figure at 0x225348a1eb8>"
      ]
     },
     "metadata": {},
     "output_type": "display_data"
    }
   ],
   "source": [
    "plt.plot(data[0:461][0:1],data[0:461][1:2])"
   ]
  },
  {
   "cell_type": "code",
   "execution_count": null,
   "metadata": {
    "collapsed": true
   },
   "outputs": [],
   "source": []
  }
 ],
 "metadata": {
  "colab": {
   "collapsed_sections": [],
   "default_view": {},
   "name": "Model1.ipynb",
   "provenance": [],
   "toc_visible": true,
   "version": "0.3.2",
   "views": {}
  },
  "kernelspec": {
   "display_name": "Python 3",
   "language": "python",
   "name": "python3"
  },
  "language_info": {
   "codemirror_mode": {
    "name": "ipython",
    "version": 3
   },
   "file_extension": ".py",
   "mimetype": "text/x-python",
   "name": "python",
   "nbconvert_exporter": "python",
   "pygments_lexer": "ipython3",
   "version": "3.6.3"
  }
 },
 "nbformat": 4,
 "nbformat_minor": 1
}

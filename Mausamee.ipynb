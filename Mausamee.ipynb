{
 "cells": [
  {
   "cell_type": "code",
   "execution_count": 2,
   "metadata": {
    "collapsed": true
   },
   "outputs": [],
   "source": [
    "import pandas as pd\n",
    "import numpy as np\n",
    "import matplotlib.pyplot as plt\n",
    "from _future import division"
   ]
  },
  {
   "cell_type": "code",
   "execution_count": 3,
   "metadata": {
    "collapsed": true
   },
   "outputs": [],
   "source": [
    "data_df = pd.read_csv('14141Kdata-Copy.csv', header=None)"
   ]
  },
  {
   "cell_type": "code",
   "execution_count": 4,
   "metadata": {
    "collapsed": true
   },
   "outputs": [],
   "source": [
    "data = data_df.values"
   ]
  },
  {
   "cell_type": "code",
   "execution_count": 15,
   "metadata": {},
   "outputs": [
    {
     "data": {
      "text/plain": [
       "[<matplotlib.lines.Line2D at 0x291be273f28>,\n",
       " <matplotlib.lines.Line2D at 0x291be246d68>,\n",
       " <matplotlib.lines.Line2D at 0x291be2603c8>,\n",
       " <matplotlib.lines.Line2D at 0x291be260828>]"
      ]
     },
     "execution_count": 15,
     "metadata": {},
     "output_type": "execute_result"
    }
   ],
   "source": [
    "plt.plot(data[0:461,0],data[0:461,1],data[0:461,0],data[0:461,2],data[0:461,0],data[0:461,3],data[0:461,0],data[0:461,4])"
   ]
  },
  {
   "cell_type": "code",
   "execution_count": 32,
   "metadata": {},
   "outputs": [
    {
     "ename": "SyntaxError",
     "evalue": "invalid syntax (<ipython-input-32-b476f869e18e>, line 19)",
     "output_type": "error",
     "traceback": [
      "\u001b[1;36m  File \u001b[1;32m\"<ipython-input-32-b476f869e18e>\"\u001b[1;36m, line \u001b[1;32m19\u001b[0m\n\u001b[1;33m    def w1(Se,theta):\u001b[0m\n\u001b[1;37m      ^\u001b[0m\n\u001b[1;31mSyntaxError\u001b[0m\u001b[1;31m:\u001b[0m invalid syntax\n"
     ]
    }
   ],
   "source": [
    "def Si(n):\n",
    "    Si = 1 - (4/(n*((n+1)**2)))\n",
    "\n",
    "def Se(n,k):\n",
    "    Se = ((n-1) **2 + k**2)/((n+1)**2 + k(i)**2) + 0.05\n",
    "\n",
    "def Dis(n,D):\n",
    "    Dis = (2/3) * (n**2 - (1/n)*np.pow((n**2-1),(3/2)))* D\n",
    "    \n",
    "        #for perfectly spherical particle\n",
    "        #D=0.2D\n",
    "        \n",
    "def theta(alpha,Dis):\n",
    "    theta = np.exp(-alpha*Dis)\n",
    "    \n",
    "def alpha(n,k,lamda):\n",
    "        alpha = (4*3.14*n*k(i)/lamda\n",
    "\n",
    "def w(Se,theta):\n",
    "    w = Se + (1-Se) * (1-Se/(1-(Se*theta)))\n",
    "\n",
    "        \n",
    "def omega_ave():\n",
    "\n",
    "    for i in n:\n",
    "        \n",
    "        Si(n)\n",
    "        Se(n,k)\n",
    "        Dis(n,D)\n",
    "        alpha(k,lamda)\n",
    "        theta(alpha,Dis)\n",
    "        w(Se,theta)\n",
    "        \n",
    "        nume(i) = np.sum(np.dot(M(i)*w(i))/np.dot(raw(i)*d(i)))\n",
    "        deno(i) = np.sum((M(i))/(np.dot(raw(i)*d(i))))\n",
    "\n",
    "        w_ave(i) = nume(i)/deno(i)\n"
   ]
  },
  {
   "cell_type": "code",
   "execution_count": null,
   "metadata": {
    "collapsed": true
   },
   "outputs": [],
   "source": []
  }
 ],
 "metadata": {
  "kernelspec": {
   "display_name": "Python 3",
   "language": "python",
   "name": "python3"
  },
  "language_info": {
   "codemirror_mode": {
    "name": "ipython",
    "version": 3
   },
   "file_extension": ".py",
   "mimetype": "text/x-python",
   "name": "python",
   "nbconvert_exporter": "python",
   "pygments_lexer": "ipython3",
   "version": "3.6.3"
  }
 },
 "nbformat": 4,
 "nbformat_minor": 2
}

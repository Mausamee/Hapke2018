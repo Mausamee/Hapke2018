{
 "cells": [
  {
   "cell_type": "code",
   "execution_count": 14,
   "metadata": {},
   "outputs": [],
   "source": [
    "import pandas as pd\n",
    "import numpy as np\n",
    "import matplotlib.pyplot as plt\n",
    "from math import sin,cos,tan,pi\n",
    "import math"
   ]
  },
  {
   "cell_type": "code",
   "execution_count": 2,
   "metadata": {},
   "outputs": [],
   "source": [
    "#data file read\n",
    "data_df = pd.read_csv('14141Kdata-Copy.csv', header=None)\n",
    "\n",
    "#convert panda to numpy array\n",
    "data = data_df.values\n",
    "\n",
    "#lamda values\n",
    "lamda_values = data[:,0]"
   ]
  },
  {
   "cell_type": "code",
   "execution_count": 3,
   "metadata": {},
   "outputs": [],
   "source": [
    "#order of mineral: [Agglutinate, pyroxene, Plagioclase, Olivine, Ilmenite, Volcanic Glass]\n",
    "\n",
    "#density in g/cc\n",
    "density = [1.8, 3.3, 2.69, 3.3, 4.79, 2.4]\n",
    "\n",
    "#abundance for sample 14141(here, abundance of metallic iron not present, order different and both pyroxenes mixed)\n",
    "abundance = [48.6, 10.9, 28.0, 1.6, 1.1, 7.4]\n",
    "\n",
    "#diameter has different samples for orthopyroxene. Only one needed\n",
    "meanDiameter = [110, 175, 11, 20, 15, 10]\n",
    "\n",
    "#refractive index for metallic iron taken as avg of 2.25,3.36\n",
    "refractiveIndex = [1.49, 1.75, 1.56, 1.83, 2.13, 1.64]\n",
    "\n",
    "#imaginary refractive index (k)\n",
    "refractiveIndexI = [.2, .2, .2, .2, .2, .2]*5"
   ]
  },
  {
   "cell_type": "code",
   "execution_count": 4,
   "metadata": {},
   "outputs": [],
   "source": [
    "#incidence angle\n",
    "i = 30\n",
    "#emergence angle\n",
    "e = 0\n",
    "#phase angle\n",
    "g = 30\n",
    "\n",
    "phi = .41\n",
    "h = -(3.0/8.0)*(np.log(1-phi))\n",
    "b = -.4\n",
    "c = .25\n",
    "\n",
    "mu = cos(i)\n",
    "mu_0 = cos(e)\n"
   ]
  },
  {
   "cell_type": "code",
   "execution_count": 5,
   "metadata": {},
   "outputs": [],
   "source": [
    "def get_B(h,g):\n",
    "    \n",
    "    B = 1/(1 + (1/h)*tan(g/2))\n",
    "    return B\n",
    "\n",
    "def get_P(g,b,c):\n",
    "    \n",
    "    P = 1 + b*cos(g) + c*((3/2)*cos(g)*cos(g) - (1/2))\n",
    "    return P"
   ]
  },
  {
   "cell_type": "code",
   "execution_count": 6,
   "metadata": {},
   "outputs": [],
   "source": [
    "def get_H(x,y):\n",
    "    \n",
    "    g = np.sqrt(1-y)\n",
    "    r = (1-g)/(1+g)\n",
    "    value = 1.0/(1-(1-g)*x*(r + (1-.5*r-r*x)*np.log((1+x)/x)))\n",
    "    return value"
   ]
  },
  {
   "cell_type": "code",
   "execution_count": 7,
   "metadata": {},
   "outputs": [],
   "source": [
    "def get_avgDist(n,D):\n",
    "    Dist = (2/3)*(np.power(n,2) - (1/n)*np.power((np.power(n,2)) -1,(3/2)))*D\n",
    "    return Dist"
   ]
  },
  {
   "cell_type": "code",
   "execution_count": 8,
   "metadata": {},
   "outputs": [],
   "source": [
    "def Si(n):\n",
    "    return 1 - (4/(n*((n+1)**2)))\n",
    "\n",
    "def Se(n,k):\n",
    "    return ((n-1) **2 + k**2)/((n+1)**2 + k**2) + 0.05\n",
    "\n",
    "def Dis(n,D):\n",
    "    temp = math.pow(n,2) - 1\n",
    "    \n",
    "    val = (1/n) * (math.pow(temp,(3.0/2.0))) \n",
    "    \n",
    "    Dis = (2.0/3.0) * (math.pow(n,2) - val) * D\n",
    "    \n",
    "    return Dis\n",
    "        \n",
    "def Theta(alpha,Dis):\n",
    "    return np.exp(-alpha*Dis)\n",
    "    \n",
    "def Alpha(n,k,lamda):\n",
    "     return (4*(math.pi)*n*k/lamda)\n",
    "\n",
    "def W(Se,Si,theta):\n",
    "    return Se + (1-Se) * ((1-Si)*theta/(1-(Se*theta)))"
   ]
  },
  {
   "cell_type": "code",
   "execution_count": 9,
   "metadata": {},
   "outputs": [],
   "source": [
    "def W_ave(lamda):\n",
    "    w = np.zeros(6)\n",
    "    si = np.zeros(6)\n",
    "    se = np.zeros(6)\n",
    "    dis = np.zeros(6)\n",
    "    alpha = np.zeros(6)\n",
    "    theta = np.zeros(6)\n",
    "    nume = np.zeros(6)\n",
    "    deno = np.zeros(6)\n",
    "    D = 15e-6\n",
    "    lamda = lamda*10**-9\n",
    "    for i in range(0,6):\n",
    "        si[i] = Si(refractiveIndex[i])\n",
    "        se[i] = Se(refractiveIndex[i],refractiveIndexI[i])\n",
    "        dis[i] = Dis(refractiveIndex[i],D)\n",
    "        alpha[i] = Alpha(refractiveIndex[i],refractiveIndexI[i],lamda)\n",
    "        theta[i] = Theta(alpha[i],dis[i])\n",
    "        w[i] = W(se[i],si[i],theta[i])\n",
    "\n",
    "    for i in range(0,6):\n",
    "        nume[i] = abundance[i]*w[i]/(density[i]*meanDiameter[i])\n",
    "        deno[i] = abundance[i]/(density[i]*meanDiameter[i])\n",
    "\n",
    "    w_ave = np.sum(nume)/np.sum(deno)\n",
    "    return w_ave"
   ]
  },
  {
   "cell_type": "code",
   "execution_count": 10,
   "metadata": {},
   "outputs": [
    {
     "data": {
      "text/plain": [
       "0.10600409776135002"
      ]
     },
     "execution_count": 10,
     "metadata": {},
     "output_type": "execute_result"
    }
   ],
   "source": [
    "W_ave(400)"
   ]
  },
  {
   "cell_type": "code",
   "execution_count": 11,
   "metadata": {},
   "outputs": [],
   "source": [
    "def Reflectance(lamda):\n",
    "    w_ave = W_ave(lamda)\n",
    "    t1 = 1 + get_B(h,g)\n",
    "    t2 = get_P(g,b,c)\n",
    "    t3 = get_H(mu_0,w_ave)*get_H(mu,w_ave)\n",
    "    t5 = mu_0/(4*(math.pi))\n",
    "    t6 = mu_0/(mu_0 + mu)\n",
    "    \n",
    "    ref = t5*t6*(t1*t2+t3-1)\n",
    "    return ref"
   ]
  },
  {
   "cell_type": "code",
   "execution_count": 12,
   "metadata": {},
   "outputs": [],
   "source": [
    "ans = np.zeros(461)\n",
    "for i in range(0,461):\n",
    "    ans[i] = Reflectance(lamda_values[i])\n",
    "    "
   ]
  },
  {
   "cell_type": "code",
   "execution_count": 13,
   "metadata": {},
   "outputs": [
    {
     "data": {
      "text/plain": [
       "[<matplotlib.lines.Line2D at 0x22691059240>]"
      ]
     },
     "execution_count": 13,
     "metadata": {},
     "output_type": "execute_result"
    },
    {
     "data": {
      "image/png": "[encoded data removed]",
      "text/plain": [
       "<matplotlib.figure.Figure at 0x22690f61828>"
      ]
     },
     "metadata": {},
     "output_type": "display_data"
    }
   ],
   "source": [
    "plt.plot(lamda_values,ans)"
   ]
  },
  {
   "cell_type": "code",
   "execution_count": null,
   "metadata": {},
   "outputs": [],
   "source": [
    "def get_constants(wavg,mu,mu0,B,P,Hmu,Hmu0):\n",
    "    k1 = (wavg/4*pi)*(mu0/(mu0+mu))\n",
    "    k2 = P\n",
    "    k3 = Hmu*Hmu0\n",
    "    k4 = 1 + B\n",
    "    return k1,k2,k3,k4\n",
    "\n",
    "def grad_h(h,g,k1,k2):\n",
    "    \n",
    "    grad = k1*k2*tan(g/2)/((tan(g/2)+h)**2)\n",
    "    return grad\n",
    "    \n",
    "def grad_b(k1,k4,g):\n",
    "    \n",
    "    grad = k1*k4*cos(g)\n",
    "    return grad\n",
    "\n",
    "def grad_c(k1,k4,g):\n",
    "    \n",
    "    grad = k1*k4*(1.5*(cos(g)**2) - 0.5)\n",
    "    return grad\n",
    "\n",
    "def "
   ]
  },
  {
   "cell_type": "code",
   "execution_count": null,
   "metadata": {},
   "outputs": [],
   "source": []
  }
 ],
 "metadata": {
  "kernelspec": {
   "display_name": "Python 3",
   "language": "python",
   "name": "python3"
  },
  "language_info": {
   "codemirror_mode": {
    "name": "ipython",
    "version": 3
   },
   "file_extension": ".py",
   "mimetype": "text/x-python",
   "name": "python",
   "nbconvert_exporter": "python",
   "pygments_lexer": "ipython3",
   "version": "3.6.4"
  }
 },
 "nbformat": 4,
 "nbformat_minor": 2
}
